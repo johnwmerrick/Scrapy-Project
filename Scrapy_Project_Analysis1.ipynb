{
 "cells": [
  {
   "cell_type": "code",
   "execution_count": 1,
   "metadata": {
    "collapsed": true
   },
   "outputs": [],
   "source": [
    "import numpy as np\n",
    "import pandas as pd\n",
    "import re\n",
    "\n",
    "from matplotlib import pyplot as plt\n",
    "import seaborn as sns"
   ]
  },
  {
   "cell_type": "code",
   "execution_count": 4,
   "metadata": {
    "collapsed": true
   },
   "outputs": [],
   "source": [
    "postings_trimmed = pd.read_csv('postings_trimmed.csv', encoding='ISO-8859-1')"
   ]
  },
  {
   "cell_type": "code",
   "execution_count": 2,
   "metadata": {
    "collapsed": true
   },
   "outputs": [],
   "source": [
    "#%matplotlib inline"
   ]
  },
  {
   "cell_type": "code",
   "execution_count": 5,
   "metadata": {},
   "outputs": [
    {
     "data": {
      "text/plain": [
       "(array([   5.,   60.,  148.,  243.,  291.,  319.,  358.,  380.,  457.,\n",
       "         368.,  324.,  250.,  182.,  111.,   88.,   47.,   33.,   29.,\n",
       "          12.,    5.,   11.,    1.,    0.,    3.,    1.]),\n",
       " array([  31. ,   41.3,   51.6,   61.9,   72.2,   82.5,   92.8,  103.1,\n",
       "         113.4,  123.7,  134. ,  144.3,  154.6,  164.9,  175.2,  185.5,\n",
       "         195.8,  206.1,  216.4,  226.7,  237. ,  247.3,  257.6,  267.9,\n",
       "         278.2,  288.5]),\n",
       " <a list of 25 Patch objects>)"
      ]
     },
     "execution_count": 5,
     "metadata": {},
     "output_type": "execute_result"
    }
   ],
   "source": [
    "#mid_sal = postings_trimmed['salary_mid']\n",
    "\n",
    "#mid_sal.dropna(axis=0, how='any')\n",
    "plt.figure(figsize=(12,6))\n",
    "plt.hist(postings_trimmed['salary_mid'].dropna(axis=0, how='any'), bins=25, color=\"#666699\")"
   ]
  },
  {
   "cell_type": "code",
   "execution_count": 6,
   "metadata": {},
   "outputs": [
    {
     "data": {
      "text/plain": [
       "<matplotlib.axes._subplots.AxesSubplot at 0x2aaac2f0da0>"
      ]
     },
     "execution_count": 6,
     "metadata": {},
     "output_type": "execute_result"
    }
   ],
   "source": [
    "#plt.figure(figsize=(12,6))\n",
    "bar_df = postings_trimmed.groupby('python')['salary_mid'].mean()\n",
    "bar_df.plot.bar()"
   ]
  },
  {
   "cell_type": "code",
   "execution_count": 7,
   "metadata": {},
   "outputs": [
    {
     "data": {
      "text/plain": [
       "<matplotlib.axes._subplots.AxesSubplot at 0x2aaac2f0da0>"
      ]
     },
     "execution_count": 7,
     "metadata": {},
     "output_type": "execute_result"
    }
   ],
   "source": [
    "#plt.figure(figsize=(12,6))\n",
    "bar_df2 = postings_trimmed.groupby('r')['salary_mid'].mean()\n",
    "bar_df2.plot.bar()"
   ]
  },
  {
   "cell_type": "code",
   "execution_count": 8,
   "metadata": {},
   "outputs": [
    {
     "data": {
      "text/plain": [
       "<matplotlib.axes._subplots.AxesSubplot at 0x2aaac2f0da0>"
      ]
     },
     "execution_count": 8,
     "metadata": {},
     "output_type": "execute_result"
    }
   ],
   "source": [
    "#plt.figure(figsize=(12,6))\n",
    "bar_df3 = postings_trimmed.groupby('linux')['salary_mid'].mean()\n",
    "bar_df3.plot.bar()"
   ]
  },
  {
   "cell_type": "code",
   "execution_count": 9,
   "metadata": {},
   "outputs": [
    {
     "data": {
      "text/plain": [
       "<matplotlib.axes._subplots.AxesSubplot at 0x2aaac514748>"
      ]
     },
     "execution_count": 9,
     "metadata": {},
     "output_type": "execute_result"
    }
   ],
   "source": [
    "plt.figure(figsize=(12,6))\n",
    "sns.kdeplot(postings_trimmed['salary_mid'].dropna(axis=0, how='all'), shade=True, label='Midpoint Est. Salary')"
   ]
  },
  {
   "cell_type": "code",
   "execution_count": 10,
   "metadata": {},
   "outputs": [
    {
     "data": {
      "text/plain": [
       "<matplotlib.axes._subplots.AxesSubplot at 0x2aaad8acdd8>"
      ]
     },
     "execution_count": 10,
     "metadata": {},
     "output_type": "execute_result"
    }
   ],
   "source": [
    "plt.figure(figsize=(12,6))\n",
    "sns.distplot(postings_trimmed['salary_mid'].dropna(axis=0, how='all'), label='Midpoint Est. Salary')"
   ]
  },
  {
   "cell_type": "code",
   "execution_count": 11,
   "metadata": {},
   "outputs": [
    {
     "data": {
      "text/plain": [
       "<matplotlib.axes._subplots.AxesSubplot at 0x2aaad9c2d68>"
      ]
     },
     "execution_count": 11,
     "metadata": {},
     "output_type": "execute_result"
    }
   ],
   "source": [
    "plt.figure(figsize=(12,6))\n",
    "sns.kdeplot(postings_trimmed['rating'].dropna(axis=0, how='all'), shade=True, label='Employee Rating')"
   ]
  },
  {
   "cell_type": "code",
   "execution_count": 12,
   "metadata": {},
   "outputs": [
    {
     "data": {
      "text/plain": [
       "<matplotlib.axes._subplots.AxesSubplot at 0x2aaac50af98>"
      ]
     },
     "execution_count": 12,
     "metadata": {},
     "output_type": "execute_result"
    }
   ],
   "source": [
    "plt.figure(figsize=(12,6))\n",
    "sns.kdeplot(postings_trimmed['ceo_approve'].dropna(axis=0, how='all'), shade=True, label='CEO Approval')"
   ]
  },
  {
   "cell_type": "code",
   "execution_count": 13,
   "metadata": {},
   "outputs": [
    {
     "data": {
      "text/plain": [
       "<matplotlib.axes._subplots.AxesSubplot at 0x2aaadab5fd0>"
      ]
     },
     "execution_count": 13,
     "metadata": {},
     "output_type": "execute_result"
    }
   ],
   "source": [
    "plt.figure(figsize=(12,6))\n",
    "sns.kdeplot(postings_trimmed['recommend_friend'].dropna(axis=0, how='all'), shade=True, label='Recommend Friend')"
   ]
  },
  {
   "cell_type": "code",
   "execution_count": 14,
   "metadata": {},
   "outputs": [
    {
     "data": {
      "text/plain": [
       "<seaborn.axisgrid.JointGrid at 0x2aaadb360f0>"
      ]
     },
     "execution_count": 14,
     "metadata": {},
     "output_type": "execute_result"
    }
   ],
   "source": [
    "plt.figure(figsize=(12,6))\n",
    "sns.jointplot(postings_trimmed['salary_mid'], postings_trimmed['data_sci_indicator'])"
   ]
  },
  {
   "cell_type": "code",
   "execution_count": 16,
   "metadata": {},
   "outputs": [
    {
     "data": {
      "text/html": [
       "<div>\n",
       "<style>\n",
       "    .dataframe thead tr:only-child th {\n",
       "        text-align: right;\n",
       "    }\n",
       "\n",
       "    .dataframe thead th {\n",
       "        text-align: left;\n",
       "    }\n",
       "\n",
       "    .dataframe tbody tr th {\n",
       "        vertical-align: top;\n",
       "    }\n",
       "</style>\n",
       "<table border=\"1\" class=\"dataframe\">\n",
       "  <thead>\n",
       "    <tr style=\"text-align: right;\">\n",
       "      <th></th>\n",
       "      <th>Neg_Bound</th>\n",
       "      <th>PValues1</th>\n",
       "      <th>PValues2</th>\n",
       "      <th>Pos_Bound</th>\n",
       "      <th>Tests</th>\n",
       "    </tr>\n",
       "  </thead>\n",
       "  <tbody>\n",
       "    <tr>\n",
       "      <th>18</th>\n",
       "      <td>-0.05</td>\n",
       "      <td>4.465000e-01</td>\n",
       "      <td>NaN</td>\n",
       "      <td>0.05</td>\n",
       "      <td>Stats</td>\n",
       "    </tr>\n",
       "    <tr>\n",
       "      <th>17</th>\n",
       "      <td>-0.05</td>\n",
       "      <td>4.262000e-01</td>\n",
       "      <td>NaN</td>\n",
       "      <td>0.05</td>\n",
       "      <td>Mongo</td>\n",
       "    </tr>\n",
       "    <tr>\n",
       "      <th>16</th>\n",
       "      <td>-0.05</td>\n",
       "      <td>7.562000e-02</td>\n",
       "      <td>NaN</td>\n",
       "      <td>0.05</td>\n",
       "      <td>Linux</td>\n",
       "    </tr>\n",
       "    <tr>\n",
       "      <th>15</th>\n",
       "      <td>-0.05</td>\n",
       "      <td>1.820000e-02</td>\n",
       "      <td>NaN</td>\n",
       "      <td>0.05</td>\n",
       "      <td>R</td>\n",
       "    </tr>\n",
       "    <tr>\n",
       "      <th>14</th>\n",
       "      <td>-0.05</td>\n",
       "      <td>1.524000e-04</td>\n",
       "      <td>NaN</td>\n",
       "      <td>0.05</td>\n",
       "      <td>Matlab</td>\n",
       "    </tr>\n",
       "    <tr>\n",
       "      <th>13</th>\n",
       "      <td>-0.05</td>\n",
       "      <td>2.788000e-08</td>\n",
       "      <td>NaN</td>\n",
       "      <td>0.05</td>\n",
       "      <td>Scikit</td>\n",
       "    </tr>\n",
       "    <tr>\n",
       "      <th>12</th>\n",
       "      <td>-0.05</td>\n",
       "      <td>4.717000e-09</td>\n",
       "      <td>NaN</td>\n",
       "      <td>0.05</td>\n",
       "      <td>NLP</td>\n",
       "    </tr>\n",
       "    <tr>\n",
       "      <th>11</th>\n",
       "      <td>-0.05</td>\n",
       "      <td>1.099000e-11</td>\n",
       "      <td>NaN</td>\n",
       "      <td>0.05</td>\n",
       "      <td>Hive</td>\n",
       "    </tr>\n",
       "    <tr>\n",
       "      <th>10</th>\n",
       "      <td>-0.05</td>\n",
       "      <td>8.158000e-16</td>\n",
       "      <td>NaN</td>\n",
       "      <td>0.05</td>\n",
       "      <td>Hadoop</td>\n",
       "    </tr>\n",
       "    <tr>\n",
       "      <th>5</th>\n",
       "      <td>-0.05</td>\n",
       "      <td>2.200000e-16</td>\n",
       "      <td>NaN</td>\n",
       "      <td>0.05</td>\n",
       "      <td>Python</td>\n",
       "    </tr>\n",
       "    <tr>\n",
       "      <th>6</th>\n",
       "      <td>-0.05</td>\n",
       "      <td>2.200000e-16</td>\n",
       "      <td>NaN</td>\n",
       "      <td>0.05</td>\n",
       "      <td>PhD</td>\n",
       "    </tr>\n",
       "    <tr>\n",
       "      <th>7</th>\n",
       "      <td>-0.05</td>\n",
       "      <td>2.200000e-16</td>\n",
       "      <td>NaN</td>\n",
       "      <td>0.05</td>\n",
       "      <td>ML</td>\n",
       "    </tr>\n",
       "    <tr>\n",
       "      <th>8</th>\n",
       "      <td>-0.05</td>\n",
       "      <td>2.200000e-16</td>\n",
       "      <td>NaN</td>\n",
       "      <td>0.05</td>\n",
       "      <td>Spark</td>\n",
       "    </tr>\n",
       "    <tr>\n",
       "      <th>9</th>\n",
       "      <td>-0.05</td>\n",
       "      <td>2.200000e-16</td>\n",
       "      <td>NaN</td>\n",
       "      <td>0.05</td>\n",
       "      <td>Java</td>\n",
       "    </tr>\n",
       "    <tr>\n",
       "      <th>4</th>\n",
       "      <td>-0.05</td>\n",
       "      <td>NaN</td>\n",
       "      <td>-2.200000e-16</td>\n",
       "      <td>0.05</td>\n",
       "      <td>Tableau</td>\n",
       "    </tr>\n",
       "    <tr>\n",
       "      <th>3</th>\n",
       "      <td>-0.05</td>\n",
       "      <td>NaN</td>\n",
       "      <td>-3.231000e-07</td>\n",
       "      <td>0.05</td>\n",
       "      <td>SQL</td>\n",
       "    </tr>\n",
       "    <tr>\n",
       "      <th>2</th>\n",
       "      <td>-0.05</td>\n",
       "      <td>NaN</td>\n",
       "      <td>-1.524000e-04</td>\n",
       "      <td>0.05</td>\n",
       "      <td>SAS</td>\n",
       "    </tr>\n",
       "    <tr>\n",
       "      <th>1</th>\n",
       "      <td>-0.05</td>\n",
       "      <td>NaN</td>\n",
       "      <td>-2.719000e-03</td>\n",
       "      <td>0.05</td>\n",
       "      <td>Masters</td>\n",
       "    </tr>\n",
       "    <tr>\n",
       "      <th>0</th>\n",
       "      <td>-0.05</td>\n",
       "      <td>NaN</td>\n",
       "      <td>-5.400000e-02</td>\n",
       "      <td>0.05</td>\n",
       "      <td>Viz</td>\n",
       "    </tr>\n",
       "  </tbody>\n",
       "</table>\n",
       "</div>"
      ],
      "text/plain": [
       "    Neg_Bound      PValues1      PValues2  Pos_Bound    Tests\n",
       "18      -0.05  4.465000e-01           NaN       0.05    Stats\n",
       "17      -0.05  4.262000e-01           NaN       0.05    Mongo\n",
       "16      -0.05  7.562000e-02           NaN       0.05    Linux\n",
       "15      -0.05  1.820000e-02           NaN       0.05        R\n",
       "14      -0.05  1.524000e-04           NaN       0.05   Matlab\n",
       "13      -0.05  2.788000e-08           NaN       0.05   Scikit\n",
       "12      -0.05  4.717000e-09           NaN       0.05      NLP\n",
       "11      -0.05  1.099000e-11           NaN       0.05     Hive\n",
       "10      -0.05  8.158000e-16           NaN       0.05   Hadoop\n",
       "5       -0.05  2.200000e-16           NaN       0.05   Python\n",
       "6       -0.05  2.200000e-16           NaN       0.05      PhD\n",
       "7       -0.05  2.200000e-16           NaN       0.05       ML\n",
       "8       -0.05  2.200000e-16           NaN       0.05    Spark\n",
       "9       -0.05  2.200000e-16           NaN       0.05     Java\n",
       "4       -0.05           NaN -2.200000e-16       0.05  Tableau\n",
       "3       -0.05           NaN -3.231000e-07       0.05      SQL\n",
       "2       -0.05           NaN -1.524000e-04       0.05      SAS\n",
       "1       -0.05           NaN -2.719000e-03       0.05  Masters\n",
       "0       -0.05           NaN -5.400000e-02       0.05      Viz"
      ]
     },
     "execution_count": 16,
     "metadata": {},
     "output_type": "execute_result"
    }
   ],
   "source": [
    "stats = pd.DataFrame({'Tests': ['Viz', 'Masters', 'SAS', 'SQL', 'Tableau', 'Python', 'PhD', 'ML', 'Spark', \\\n",
    "                      'Java', 'Hadoop', 'Hive', 'NLP', 'Scikit', 'Matlab', 'R', 'Linux', 'Mongo', 'Stats'],\\\n",
    "                      'PValues1': [np.nan, np.nan, np.nan, np.nan, np.nan, 2.200e-16, 2.200e-16, \\\n",
    "                                  2.200e-16, 2.200e-16, 2.200e-16, 8.158e-16, 1.099e-11, 4.717e-09, 2.788e-08, 1.524e-04, \\\n",
    "                                  1.820e-02, 7.562e-02, 4.262e-01, 4.465e-01], \\\n",
    "                      'PValues2': [-5.400e-02, -2.719e-03, -1.524e-04, -3.231e-07, -2.200e-16, np.nan, np.nan, \\\n",
    "                                  np.nan, np.nan, np.nan, np.nan, np.nan, np.nan, np.nan, np.nan, \\\n",
    "                                  np.nan, np.nan, np.nan, np.nan], \\\n",
    "                      'Pos_Bound': [0.05, 0.05, 0.05, 0.05, 0.05, 0.05, 0.05, 0.05, 0.05, 0.05, 0.05, 0.05, 0.05, 0.05, \\\n",
    "                                    0.05, 0.05, 0.05, 0.05, 0.05], \\\n",
    "                      'Neg_Bound': [-0.05, -0.05, -0.05, -0.05, -0.05, -0.05, -0.05, -0.05, -0.05, -0.05, -0.05, -0.05, \\\n",
    "                                    -0.05, -0.05, -0.05, -0.05, -0.05, -0.05, -0.05]})\n",
    "\n",
    "stats = stats.sort_values('PValues2',ascending=False).sort_values('PValues1', ascending=False)\n",
    "\n",
    "stats\n"
   ]
  },
  {
   "cell_type": "code",
   "execution_count": 421,
   "metadata": {},
   "outputs": [
    {
     "data": {
      "text/plain": [
       "numpy.float64"
      ]
     },
     "execution_count": 421,
     "metadata": {},
     "output_type": "execute_result"
    }
   ],
   "source": [
    "type(stats['PValues'][2])"
   ]
  },
  {
   "cell_type": "code",
   "execution_count": 481,
   "metadata": {
    "collapsed": true
   },
   "outputs": [],
   "source": [
    "stats['PValues1'] = stats['PValues1'].apply(lambda x: x + 1)\n",
    "stats['PValues2'] = stats['PValues2'].apply(lambda x: x + 1)\n",
    "stats['Pos_Bound'] = stats['Pos_Bound'].apply(lambda x: x + 1)\n",
    "stats['Neg_Bound'] = stats['Neg_Bound'].apply(lambda x: x + 1)\n"
   ]
  },
  {
   "cell_type": "code",
   "execution_count": 482,
   "metadata": {
    "collapsed": true
   },
   "outputs": [],
   "source": [
    "stats['PValues1'] = stats['PValues1'].apply(lambda x: math.log10(x))\n",
    "stats['PValues2'] = stats['PValues2'].apply(lambda x: math.log10(x))\n",
    "stats['Pos_Bound'] = stats['Pos_Bound'].apply(lambda x: math.log10(x))\n",
    "stats['Neg_Bound'] = stats['Neg_Bound'].apply(lambda x: math.log10(x))\n"
   ]
  },
  {
   "cell_type": "code",
   "execution_count": 17,
   "metadata": {},
   "outputs": [
    {
     "data": {
      "text/plain": [
       "[<matplotlib.lines.Line2D at 0x2aaadefa278>]"
      ]
     },
     "execution_count": 17,
     "metadata": {},
     "output_type": "execute_result"
    }
   ],
   "source": [
    "import math\n",
    "\n",
    "plt.figure(figsize=(12,8))\n",
    "sns.pointplot(stats['Tests'], stats['PValues1'], join=False, color='darkblue')\n",
    "sns.pointplot(stats['Tests'], stats['PValues2'], join=False, color=\"red\").set(xlabel='', ylabel='P-Value')\n",
    "plt.plot(stats['Pos_Bound'], linewidth = 1, color=\"red\")\n",
    "plt.plot(stats['Neg_Bound'], linewidth = 1, color=\"red\")"
   ]
  }
 ],
 "metadata": {
  "kernelspec": {
   "display_name": "Python 3",
   "language": "python",
   "name": "python3"
  },
  "language_info": {
   "codemirror_mode": {
    "name": "ipython",
    "version": 3
   },
   "file_extension": ".py",
   "mimetype": "text/x-python",
   "name": "python",
   "nbconvert_exporter": "python",
   "pygments_lexer": "ipython3",
   "version": "3.6.1"
  }
 },
 "nbformat": 4,
 "nbformat_minor": 2
}
