{
 "cells": [
  {
   "cell_type": "code",
   "execution_count": 8,
   "metadata": {
    "collapsed": true
   },
   "outputs": [],
   "source": [
    "import numpy as np\n",
    "import pandas as pd\n",
    "import re"
   ]
  },
  {
   "cell_type": "code",
   "execution_count": 82,
   "metadata": {},
   "outputs": [],
   "source": [
    "atl = pd.read_csv('postings_atl.csv')\n",
    "bos = pd.read_csv('postings_bos.csv')\n",
    "chi = pd.read_csv('postings_chi.csv')\n",
    "den = pd.read_csv('postings_den.csv')\n",
    "la = pd.read_csv('postings_la.csv')\n",
    "nyc = pd.read_csv('postings_nyc.csv')\n",
    "sc = pd.read_csv('postings_sc.csv')\n",
    "sea = pd.read_csv('postings_sea.csv')\n",
    "sf = pd.read_csv('postings_sf.csv')\n"
   ]
  },
  {
   "cell_type": "code",
   "execution_count": 86,
   "metadata": {},
   "outputs": [
    {
     "name": "stdout",
     "output_type": "stream",
     "text": [
      "['ceo_approve', 'company', 'job_description', 'location', 'rating', 'recommend_friend', 'salary_est', 'title']\n",
      "['ceo_approve', 'company', 'job_description', 'location', 'rating', 'recommend_friend', 'salary_est', 'title']\n",
      "['ceo_approve', 'company', 'job_description', 'location', 'rating', 'recommend_friend', 'salary_est', 'title']\n",
      "['ceo_approve', 'company', 'job_description', 'location', 'rating', 'recommend_friend', 'salary_est', 'title']\n",
      "['ceo_approve', 'company', 'job_description', 'location', 'rating', 'recommend_friend', 'salary_est', 'title']\n",
      "['ceo_approve', 'company', 'job_description', 'location', 'rating', 'recommend_friend', 'salary_est', 'title']\n",
      "['ceo_approve', 'company', 'job_description', 'location', 'rating', 'recommend_friend', 'salary_est', 'title']\n",
      "['ceo_approve', 'company', 'job_description', 'location', 'rating', 'recommend_friend', 'salary_est', 'title']\n",
      "['ceo_approve', 'company', 'job_description', 'location', 'rating', 'recommend_friend', 'salary_est', 'title']\n"
     ]
    }
   ],
   "source": [
    "print(list(atl.columns.values))\n",
    "print(list(bos.columns.values))\n",
    "print(list(chi.columns.values))\n",
    "print(list(den.columns.values))\n",
    "print(list(la.columns.values))\n",
    "print(list(nyc.columns.values))\n",
    "print(list(sc.columns.values))\n",
    "print(list(sea.columns.values))\n",
    "print(list(sf.columns.values))"
   ]
  },
  {
   "cell_type": "code",
   "execution_count": 117,
   "metadata": {},
   "outputs": [
    {
     "data": {
      "text/plain": [
       "(7713, 8)"
      ]
     },
     "execution_count": 117,
     "metadata": {},
     "output_type": "execute_result"
    }
   ],
   "source": [
    "postings = pd.concat([atl, bos, chi, den, la, nyc, sc, sea, sf], axis = 0)\n",
    "\n",
    "postings.shape"
   ]
  },
  {
   "cell_type": "code",
   "execution_count": 118,
   "metadata": {},
   "outputs": [],
   "source": [
    "salary_high = []\n",
    "for row in postings['salary_est']:\n",
    "    try: \n",
    "        salary_high.append(row[-4:-1].strip('$'))\n",
    "    except TypeError: \n",
    "        salary_high.append(np.nan)\n",
    "        "
   ]
  },
  {
   "cell_type": "code",
   "execution_count": 119,
   "metadata": {},
   "outputs": [
    {
     "name": "stderr",
     "output_type": "stream",
     "text": [
      "C:\\ProgramData\\Anaconda3\\lib\\site-packages\\ipykernel_launcher.py:1: FutureWarning: currently extract(expand=None) means expand=False (return Index/Series/DataFrame) but in a future version of pandas this will be changed to expand=True (return DataFrame)\n",
      "  \"\"\"Entry point for launching an IPython kernel.\n"
     ]
    },
    {
     "data": {
      "text/html": [
       "<div>\n",
       "<style>\n",
       "    .dataframe thead tr:only-child th {\n",
       "        text-align: right;\n",
       "    }\n",
       "\n",
       "    .dataframe thead th {\n",
       "        text-align: left;\n",
       "    }\n",
       "\n",
       "    .dataframe tbody tr th {\n",
       "        vertical-align: top;\n",
       "    }\n",
       "</style>\n",
       "<table border=\"1\" class=\"dataframe\">\n",
       "  <thead>\n",
       "    <tr style=\"text-align: right;\">\n",
       "      <th></th>\n",
       "      <th>ceo_approve</th>\n",
       "      <th>company</th>\n",
       "      <th>job_description</th>\n",
       "      <th>location</th>\n",
       "      <th>rating</th>\n",
       "      <th>recommend_friend</th>\n",
       "      <th>salary_est</th>\n",
       "      <th>title</th>\n",
       "      <th>salary_low</th>\n",
       "      <th>salary_high</th>\n",
       "      <th>salary_range</th>\n",
       "      <th>salary_mid</th>\n",
       "    </tr>\n",
       "  </thead>\n",
       "  <tbody>\n",
       "    <tr>\n",
       "      <th>0</th>\n",
       "      <td>77.0</td>\n",
       "      <td>SunTrust Banks –</td>\n",
       "      <td>Job Description, PPNR Stress Analytics Finance...</td>\n",
       "      <td>Atlanta, GA</td>\n",
       "      <td>3.1</td>\n",
       "      <td>52.0</td>\n",
       "      <td>Est. Salary $69k-$100k</td>\n",
       "      <td>PPNR Stress Analytics Finance Manager</td>\n",
       "      <td>69.0</td>\n",
       "      <td>100.0</td>\n",
       "      <td>31.0</td>\n",
       "      <td>84.5</td>\n",
       "    </tr>\n",
       "    <tr>\n",
       "      <th>1</th>\n",
       "      <td>86.0</td>\n",
       "      <td>Careerbuilder –</td>\n",
       "      <td>Job Description,Data Science Fall 2017 Interns...</td>\n",
       "      <td>Norcross, GA</td>\n",
       "      <td>3.7</td>\n",
       "      <td>68.0</td>\n",
       "      <td>NaN</td>\n",
       "      <td>Data Science Fall 2017 Internship - Recommenda...</td>\n",
       "      <td>NaN</td>\n",
       "      <td>NaN</td>\n",
       "      <td>NaN</td>\n",
       "      <td>NaN</td>\n",
       "    </tr>\n",
       "    <tr>\n",
       "      <th>2</th>\n",
       "      <td>98.0</td>\n",
       "      <td>SPH Analytics –</td>\n",
       "      <td>Job Description, Data Analyst ,General Duties:...</td>\n",
       "      <td>Duluth, GA</td>\n",
       "      <td>2.8</td>\n",
       "      <td>49.0</td>\n",
       "      <td>Est. Salary $58k-$77k</td>\n",
       "      <td>Data Analyst</td>\n",
       "      <td>58.0</td>\n",
       "      <td>77.0</td>\n",
       "      <td>19.0</td>\n",
       "      <td>67.5</td>\n",
       "    </tr>\n",
       "    <tr>\n",
       "      <th>3</th>\n",
       "      <td>96.0</td>\n",
       "      <td>T-Mobile –</td>\n",
       "      <td>Job Description, A creative development role o...</td>\n",
       "      <td>Atlanta, GA</td>\n",
       "      <td>3.9</td>\n",
       "      <td>82.0</td>\n",
       "      <td>NaN</td>\n",
       "      <td>Developer, Software – Workforce Management Ana...</td>\n",
       "      <td>NaN</td>\n",
       "      <td>NaN</td>\n",
       "      <td>NaN</td>\n",
       "      <td>NaN</td>\n",
       "    </tr>\n",
       "    <tr>\n",
       "      <th>4</th>\n",
       "      <td>67.0</td>\n",
       "      <td>LiveHealthier –</td>\n",
       "      <td>Job Description, Position Purpose: Responsible...</td>\n",
       "      <td>Smyrna, GA</td>\n",
       "      <td>2.8</td>\n",
       "      <td>55.0</td>\n",
       "      <td>Est. Salary $53k-$68k</td>\n",
       "      <td>Data Analyst IV</td>\n",
       "      <td>53.0</td>\n",
       "      <td>68.0</td>\n",
       "      <td>15.0</td>\n",
       "      <td>60.5</td>\n",
       "    </tr>\n",
       "  </tbody>\n",
       "</table>\n",
       "</div>"
      ],
      "text/plain": [
       "   ceo_approve             company  \\\n",
       "0         77.0   SunTrust Banks –    \n",
       "1         86.0    Careerbuilder –    \n",
       "2         98.0    SPH Analytics –    \n",
       "3         96.0         T-Mobile –    \n",
       "4         67.0    LiveHealthier –    \n",
       "\n",
       "                                     job_description      location  rating  \\\n",
       "0  Job Description, PPNR Stress Analytics Finance...   Atlanta, GA     3.1   \n",
       "1  Job Description,Data Science Fall 2017 Interns...  Norcross, GA     3.7   \n",
       "2  Job Description, Data Analyst ,General Duties:...    Duluth, GA     2.8   \n",
       "3  Job Description, A creative development role o...   Atlanta, GA     3.9   \n",
       "4  Job Description, Position Purpose: Responsible...    Smyrna, GA     2.8   \n",
       "\n",
       "   recommend_friend               salary_est  \\\n",
       "0              52.0   Est. Salary $69k-$100k   \n",
       "1              68.0                      NaN   \n",
       "2              49.0    Est. Salary $58k-$77k   \n",
       "3              82.0                      NaN   \n",
       "4              55.0    Est. Salary $53k-$68k   \n",
       "\n",
       "                                               title  salary_low  salary_high  \\\n",
       "0              PPNR Stress Analytics Finance Manager        69.0        100.0   \n",
       "1  Data Science Fall 2017 Internship - Recommenda...         NaN          NaN   \n",
       "2                                       Data Analyst        58.0         77.0   \n",
       "3  Developer, Software – Workforce Management Ana...         NaN          NaN   \n",
       "4                                    Data Analyst IV        53.0         68.0   \n",
       "\n",
       "   salary_range  salary_mid  \n",
       "0          31.0        84.5  \n",
       "1           NaN         NaN  \n",
       "2          19.0        67.5  \n",
       "3           NaN         NaN  \n",
       "4          15.0        60.5  "
      ]
     },
     "execution_count": 119,
     "metadata": {},
     "output_type": "execute_result"
    }
   ],
   "source": [
    "postings['salary_low'] = postings['salary_est'].str.extract('(\\d+)').astype(float)  \n",
    "postings['salary_high'] = salary_high\n",
    "postings['salary_high'] = postings['salary_high'].astype(float)\n",
    "postings['salary_range'] = postings['salary_high'] - postings['salary_low']\n",
    "postings['salary_mid'] = postings['salary_low'] + (postings['salary_range']/2)\n",
    "\n",
    "postings.head()"
   ]
  },
  {
   "cell_type": "code",
   "execution_count": 120,
   "metadata": {},
   "outputs": [],
   "source": [
    "postings['company'] = postings['company'].str.replace(' – ', '')"
   ]
  },
  {
   "cell_type": "code",
   "execution_count": 121,
   "metadata": {},
   "outputs": [],
   "source": [
    "state = []\n",
    "for row in postings['location']:\n",
    "    state.append(row[-2:])"
   ]
  },
  {
   "cell_type": "code",
   "execution_count": 122,
   "metadata": {},
   "outputs": [],
   "source": [
    "city = []\n",
    "for row in postings['location']:\n",
    "    city.append(row[:-4])"
   ]
  },
  {
   "cell_type": "code",
   "execution_count": 123,
   "metadata": {},
   "outputs": [],
   "source": [
    "postings['city'] = city\n",
    "postings['state'] = state\n"
   ]
  },
  {
   "cell_type": "code",
   "execution_count": 124,
   "metadata": {},
   "outputs": [],
   "source": [
    "postings = postings.drop('location', 1)\n",
    "postings = postings.drop('salary_est', 1)"
   ]
  },
  {
   "cell_type": "code",
   "execution_count": 126,
   "metadata": {},
   "outputs": [
    {
     "data": {
      "text/html": [
       "<div>\n",
       "<style>\n",
       "    .dataframe thead tr:only-child th {\n",
       "        text-align: right;\n",
       "    }\n",
       "\n",
       "    .dataframe thead th {\n",
       "        text-align: left;\n",
       "    }\n",
       "\n",
       "    .dataframe tbody tr th {\n",
       "        vertical-align: top;\n",
       "    }\n",
       "</style>\n",
       "<table border=\"1\" class=\"dataframe\">\n",
       "  <thead>\n",
       "    <tr style=\"text-align: right;\">\n",
       "      <th></th>\n",
       "      <th>ceo_approve</th>\n",
       "      <th>company</th>\n",
       "      <th>job_description</th>\n",
       "      <th>rating</th>\n",
       "      <th>recommend_friend</th>\n",
       "      <th>title</th>\n",
       "      <th>salary_low</th>\n",
       "      <th>salary_high</th>\n",
       "      <th>salary_range</th>\n",
       "      <th>salary_mid</th>\n",
       "      <th>city</th>\n",
       "      <th>state</th>\n",
       "    </tr>\n",
       "  </thead>\n",
       "  <tbody>\n",
       "    <tr>\n",
       "      <th>987</th>\n",
       "      <td>36.0</td>\n",
       "      <td>Global Software Resources</td>\n",
       "      <td>Job Description,Job Description – Data Scienti...</td>\n",
       "      <td>2.9</td>\n",
       "      <td>35.0</td>\n",
       "      <td>Data Scientist</td>\n",
       "      <td>127.0</td>\n",
       "      <td>187.0</td>\n",
       "      <td>60.0</td>\n",
       "      <td>157.0</td>\n",
       "      <td>San Francisco</td>\n",
       "      <td>CA</td>\n",
       "    </tr>\n",
       "    <tr>\n",
       "      <th>988</th>\n",
       "      <td>100.0</td>\n",
       "      <td>Avenue Code</td>\n",
       "      <td>Job Description, Avenue Code is an eCommerce c...</td>\n",
       "      <td>4.3</td>\n",
       "      <td>96.0</td>\n",
       "      <td>Data Scientist</td>\n",
       "      <td>116.0</td>\n",
       "      <td>160.0</td>\n",
       "      <td>44.0</td>\n",
       "      <td>138.0</td>\n",
       "      <td>San Francisco</td>\n",
       "      <td>CA</td>\n",
       "    </tr>\n",
       "    <tr>\n",
       "      <th>989</th>\n",
       "      <td>100.0</td>\n",
       "      <td>Supercell</td>\n",
       "      <td>Job Description, Description ,Food for thought...</td>\n",
       "      <td>4.4</td>\n",
       "      <td>81.0</td>\n",
       "      <td>Data Scientist</td>\n",
       "      <td>97.0</td>\n",
       "      <td>135.0</td>\n",
       "      <td>38.0</td>\n",
       "      <td>116.0</td>\n",
       "      <td>San Francisco</td>\n",
       "      <td>CA</td>\n",
       "    </tr>\n",
       "    <tr>\n",
       "      <th>990</th>\n",
       "      <td>88.0</td>\n",
       "      <td>The Climate Corp</td>\n",
       "      <td>Job Description, Description ,Position Overvie...</td>\n",
       "      <td>3.9</td>\n",
       "      <td>76.0</td>\n",
       "      <td>Data Scientist</td>\n",
       "      <td>138.0</td>\n",
       "      <td>190.0</td>\n",
       "      <td>52.0</td>\n",
       "      <td>164.0</td>\n",
       "      <td>San Francisco</td>\n",
       "      <td>CA</td>\n",
       "    </tr>\n",
       "    <tr>\n",
       "      <th>991</th>\n",
       "      <td>-1.0</td>\n",
       "      <td>DataRobot</td>\n",
       "      <td>Job Description,Job Summary, As a Customer Fac...</td>\n",
       "      <td>4.0</td>\n",
       "      <td>73.0</td>\n",
       "      <td>Partners - Customer Facing Data Scientist</td>\n",
       "      <td>97.0</td>\n",
       "      <td>135.0</td>\n",
       "      <td>38.0</td>\n",
       "      <td>116.0</td>\n",
       "      <td>San Francisco</td>\n",
       "      <td>CA</td>\n",
       "    </tr>\n",
       "  </tbody>\n",
       "</table>\n",
       "</div>"
      ],
      "text/plain": [
       "     ceo_approve                     company  \\\n",
       "987         36.0   Global Software Resources   \n",
       "988        100.0                 Avenue Code   \n",
       "989        100.0                   Supercell   \n",
       "990         88.0            The Climate Corp   \n",
       "991         -1.0                   DataRobot   \n",
       "\n",
       "                                       job_description  rating  \\\n",
       "987  Job Description,Job Description – Data Scienti...     2.9   \n",
       "988  Job Description, Avenue Code is an eCommerce c...     4.3   \n",
       "989  Job Description, Description ,Food for thought...     4.4   \n",
       "990  Job Description, Description ,Position Overvie...     3.9   \n",
       "991  Job Description,Job Summary, As a Customer Fac...     4.0   \n",
       "\n",
       "     recommend_friend                                      title  salary_low  \\\n",
       "987              35.0                             Data Scientist       127.0   \n",
       "988              96.0                             Data Scientist       116.0   \n",
       "989              81.0                             Data Scientist        97.0   \n",
       "990              76.0                             Data Scientist       138.0   \n",
       "991              73.0  Partners - Customer Facing Data Scientist        97.0   \n",
       "\n",
       "     salary_high  salary_range  salary_mid           city state  \n",
       "987        187.0          60.0       157.0  San Francisco    CA  \n",
       "988        160.0          44.0       138.0  San Francisco    CA  \n",
       "989        135.0          38.0       116.0  San Francisco    CA  \n",
       "990        190.0          52.0       164.0  San Francisco    CA  \n",
       "991        135.0          38.0       116.0  San Francisco    CA  "
      ]
     },
     "execution_count": 126,
     "metadata": {},
     "output_type": "execute_result"
    }
   ],
   "source": [
    "#postings = postings[np.isfinite(postings['ceo_approve'])]  # don't want to do this\n",
    "postings.tail()"
   ]
  },
  {
   "cell_type": "code",
   "execution_count": 127,
   "metadata": {},
   "outputs": [],
   "source": [
    "postings.to_csv('postings_master.csv', index=False)"
   ]
  }
 ],
 "metadata": {
  "kernelspec": {
   "display_name": "Python 3",
   "language": "python",
   "name": "python3"
  },
  "language_info": {
   "codemirror_mode": {
    "name": "ipython",
    "version": 3
   },
   "file_extension": ".py",
   "mimetype": "text/x-python",
   "name": "python",
   "nbconvert_exporter": "python",
   "pygments_lexer": "ipython3",
   "version": "3.6.1"
  }
 },
 "nbformat": 4,
 "nbformat_minor": 2
}
